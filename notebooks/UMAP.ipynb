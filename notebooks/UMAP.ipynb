{
 "cells": [
  {
   "cell_type": "code",
   "execution_count": null,
   "id": "afd47244",
   "metadata": {},
   "outputs": [],
   "source": [
    "import umap\n",
    "import os\n",
    "import pandas as pd\n",
    "import matplotlib.pyplot as plt\n",
    "import seaborn as sns"
   ]
  },
  {
   "cell_type": "code",
   "execution_count": null,
   "id": "d46a1439",
   "metadata": {},
   "outputs": [],
   "source": [
    "d = \"/mnt/c/Users/trang.le/Desktop/shapemode\"\n",
    "PC = \"PC1\"\n",
    "df0 = pd.read_csv(f\"{d}/covar_sc/{PC}_0_intensities.csv\")\n",
    "#df1 = pd.read_csv(f\"{d}/covar_sc/{PC}_1_intensities.csv\")\n",
    "df0 = df0.drop(\"Unnamed: 0\", axis=1)\n",
    "df0 = df0[df0.cell_labs != 'Multi-Location']"
   ]
  },
  {
   "cell_type": "code",
   "execution_count": null,
   "id": "3a5057f9",
   "metadata": {},
   "outputs": [],
   "source": [
    "intensities = df0.iloc[:10000,254:5376].values\n",
    "reducer=umap.UMAP(n_neighbors=15, min_dist= 0.1, n_components=2, metric='euclidean')\n",
    "embedding = reducer.fit_transform(intensities)\n",
    "embedding.shape"
   ]
  },
  {
   "cell_type": "code",
   "execution_count": null,
   "id": "7f8b662d",
   "metadata": {},
   "outputs": [],
   "source": [
    "#plt.scatter(embedding[:,0], embedding[:,1], c=df0.cell_labs)\n",
    "#plt.figure((10,10))\n",
    "sns.scatterplot(embedding[:,0], embedding[:,1],\n",
    "                hue=df0[df0.cell_labs != 'Multi-Location'].cell_labs[:10000].to_list(),\n",
    "                alpha=1, s=4)"
   ]
  }
 ],
 "metadata": {
  "kernelspec": {
   "display_name": "ImJoy Interactive ML",
   "language": "python",
   "name": "imjoy-interactive-ml"
  },
  "language_info": {
   "codemirror_mode": {
    "name": "ipython",
    "version": 3
   },
   "file_extension": ".py",
   "mimetype": "text/x-python",
   "name": "python",
   "nbconvert_exporter": "python",
   "pygments_lexer": "ipython3",
   "version": "3.7.2"
  }
 },
 "nbformat": 4,
 "nbformat_minor": 5
}
