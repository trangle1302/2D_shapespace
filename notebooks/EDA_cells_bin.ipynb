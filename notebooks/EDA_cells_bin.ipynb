{
 "cells": [
  {
   "cell_type": "code",
   "execution_count": 19,
   "id": "91824548",
   "metadata": {},
   "outputs": [],
   "source": [
    "import os\n",
    "import json\n",
    "import numpy as np\n",
    "import pandas as pd"
   ]
  },
  {
   "cell_type": "code",
   "execution_count": 16,
   "id": "a25e50cb",
   "metadata": {},
   "outputs": [],
   "source": [
    "shapemode_dir = \"/mnt/c/Users/trang.le/Desktop/shapemode\""
   ]
  },
  {
   "cell_type": "code",
   "execution_count": 17,
   "id": "f5f8cda2",
   "metadata": {},
   "outputs": [],
   "source": [
    "mappings = pd.read_csv(f\"{shapemode_dir}/sl_pHPA_15_0.05_euclidean_100000_rmoutliers_ilsc_3d_bbox_rm_border.csv\")\n",
    "mappings = mappings[mappings.atlas_name==\"U-2 OS\"]"
   ]
  },
  {
   "cell_type": "markdown",
   "id": "444b604b",
   "metadata": {},
   "source": [
    "# Gene set enrichment analysis\n",
    "\n",
    "preload cluster assignment returned from `s7_protein_covariance.py`"
   ]
  },
  {
   "cell_type": "code",
   "execution_count": 18,
   "id": "26b0b489",
   "metadata": {},
   "outputs": [
    {
     "name": "stdout",
     "output_type": "stream",
     "text": [
      "PCPC1-bin0-cluster1: Number of gene: 75\n",
      "PCPC1-bin0-cluster2: Number of gene: 1014\n"
     ]
    },
    {
     "name": "stderr",
     "output_type": "stream",
     "text": [
      "2022-10-28 12:14:48,355 Warning: No enrich terms using library KEGG_2021_Human when cutoff = 0.05\n"
     ]
    },
    {
     "name": "stdout",
     "output_type": "stream",
     "text": [
      "PCPC1-bin0-cluster3: Number of gene: 473\n"
     ]
    },
    {
     "name": "stderr",
     "output_type": "stream",
     "text": [
      "2022-10-28 12:14:52,654 Warning: No enrich terms using library KEGG_2021_Human when cutoff = 0.05\n"
     ]
    },
    {
     "name": "stdout",
     "output_type": "stream",
     "text": [
      "PCPC1-bin0-cluster4: Number of gene: 1152\n"
     ]
    },
    {
     "name": "stderr",
     "output_type": "stream",
     "text": [
      "2022-10-28 12:14:59,246 Warning: No enrich terms using library KEGG_2021_Human when cutoff = 0.05\n"
     ]
    },
    {
     "name": "stdout",
     "output_type": "stream",
     "text": [
      "PCPC1-bin0-cluster5: Number of gene: 3155\n"
     ]
    },
    {
     "name": "stderr",
     "output_type": "stream",
     "text": [
      "2022-10-28 12:16:12,080 Warning: No enrich terms using library KEGG_2021_Human when cutoff = 0.05\n"
     ]
    },
    {
     "name": "stdout",
     "output_type": "stream",
     "text": [
      "PCPC1-bin0-cluster6: Number of gene: 1144\n"
     ]
    },
    {
     "name": "stderr",
     "output_type": "stream",
     "text": [
      "2022-10-28 12:16:18,448 Warning: No enrich terms using library KEGG_2021_Human when cutoff = 0.05\n"
     ]
    },
    {
     "name": "stdout",
     "output_type": "stream",
     "text": [
      "PCPC1-bin0-cluster7: Number of gene: 642\n"
     ]
    },
    {
     "name": "stderr",
     "output_type": "stream",
     "text": [
      "2022-10-28 12:16:23,292 Warning: No enrich terms using library KEGG_2021_Human when cutoff = 0.05\n"
     ]
    },
    {
     "name": "stdout",
     "output_type": "stream",
     "text": [
      "PCPC1-bin0-cluster8: Number of gene: 432\n"
     ]
    },
    {
     "name": "stderr",
     "output_type": "stream",
     "text": [
      "2022-10-28 12:16:27,405 Warning: No enrich terms using library KEGG_2021_Human when cutoff = 0.05\n"
     ]
    },
    {
     "name": "stdout",
     "output_type": "stream",
     "text": [
      "PCPC1-bin0-cluster9: Number of gene: 189\n"
     ]
    },
    {
     "name": "stderr",
     "output_type": "stream",
     "text": [
      "2022-10-28 12:16:30,905 Warning: No enrich terms using library KEGG_2021_Human when cutoff = 0.05\n"
     ]
    },
    {
     "name": "stdout",
     "output_type": "stream",
     "text": [
      "PCPC1-bin0-cluster10: Number of gene: 1446\n"
     ]
    },
    {
     "name": "stderr",
     "output_type": "stream",
     "text": [
      "2022-10-28 12:16:38,150 Warning: No enrich terms using library KEGG_2021_Human when cutoff = 0.05\n"
     ]
    },
    {
     "name": "stdout",
     "output_type": "stream",
     "text": [
      "PCPC1-bin1-cluster1: Number of gene: 3456\n"
     ]
    },
    {
     "name": "stderr",
     "output_type": "stream",
     "text": [
      "2022-10-28 12:16:50,196 Warning: No enrich terms using library KEGG_2021_Human when cutoff = 0.05\n"
     ]
    },
    {
     "name": "stdout",
     "output_type": "stream",
     "text": [
      "PCPC1-bin1-cluster2: Number of gene: 994\n"
     ]
    },
    {
     "name": "stderr",
     "output_type": "stream",
     "text": [
      "2022-10-28 12:16:55,651 Warning: No enrich terms using library KEGG_2021_Human when cutoff = 0.05\n"
     ]
    },
    {
     "name": "stdout",
     "output_type": "stream",
     "text": [
      "PCPC1-bin1-cluster3: Number of gene: 742\n"
     ]
    },
    {
     "name": "stderr",
     "output_type": "stream",
     "text": [
      "2022-10-28 12:17:01,018 Warning: No enrich terms using library KEGG_2021_Human when cutoff = 0.05\n"
     ]
    },
    {
     "name": "stdout",
     "output_type": "stream",
     "text": [
      "PCPC1-bin1-cluster4: Number of gene: 219\n"
     ]
    },
    {
     "name": "stderr",
     "output_type": "stream",
     "text": [
      "2022-10-28 12:17:04,611 Warning: No enrich terms using library KEGG_2021_Human when cutoff = 0.05\n"
     ]
    },
    {
     "name": "stdout",
     "output_type": "stream",
     "text": [
      "PCPC1-bin1-cluster5: Number of gene: 1325\n",
      "PCPC1-bin1-cluster6: Number of gene: 348\n"
     ]
    },
    {
     "name": "stderr",
     "output_type": "stream",
     "text": [
      "2022-10-28 12:17:15,311 Warning: No enrich terms using library KEGG_2021_Human when cutoff = 0.05\n"
     ]
    },
    {
     "name": "stdout",
     "output_type": "stream",
     "text": [
      "PCPC1-bin1-cluster7: Number of gene: 474\n"
     ]
    },
    {
     "name": "stderr",
     "output_type": "stream",
     "text": [
      "2022-10-28 12:17:19,612 Warning: No enrich terms using library KEGG_2021_Human when cutoff = 0.05\n"
     ]
    },
    {
     "name": "stdout",
     "output_type": "stream",
     "text": [
      "PCPC1-bin1-cluster8: Number of gene: 745\n"
     ]
    },
    {
     "name": "stderr",
     "output_type": "stream",
     "text": [
      "2022-10-28 12:17:24,660 Warning: No enrich terms using library KEGG_2021_Human when cutoff = 0.05\n"
     ]
    },
    {
     "name": "stdout",
     "output_type": "stream",
     "text": [
      "PCPC1-bin1-cluster9: Number of gene: 978\n"
     ]
    },
    {
     "name": "stderr",
     "output_type": "stream",
     "text": [
      "2022-10-28 12:17:30,599 Warning: No enrich terms using library KEGG_2021_Human when cutoff = 0.05\n"
     ]
    },
    {
     "name": "stdout",
     "output_type": "stream",
     "text": [
      "PCPC1-bin1-cluster10: Number of gene: 494\n"
     ]
    },
    {
     "name": "stderr",
     "output_type": "stream",
     "text": [
      "2022-10-28 12:17:35,011 Warning: No enrich terms using library KEGG_2021_Human when cutoff = 0.05\n"
     ]
    },
    {
     "name": "stdout",
     "output_type": "stream",
     "text": [
      "PCPC1-bin2-cluster1: Number of gene: 726\n"
     ]
    },
    {
     "name": "stderr",
     "output_type": "stream",
     "text": [
      "2022-10-28 12:17:39,714 Warning: No enrich terms using library KEGG_2021_Human when cutoff = 0.05\n"
     ]
    },
    {
     "name": "stdout",
     "output_type": "stream",
     "text": [
      "PCPC1-bin2-cluster2: Number of gene: 1258\n"
     ]
    },
    {
     "name": "stderr",
     "output_type": "stream",
     "text": [
      "2022-10-28 12:17:45,499 Warning: No enrich terms using library KEGG_2021_Human when cutoff = 0.05\n"
     ]
    },
    {
     "name": "stdout",
     "output_type": "stream",
     "text": [
      "PCPC1-bin2-cluster3: Number of gene: 1091\n"
     ]
    },
    {
     "name": "stderr",
     "output_type": "stream",
     "text": [
      "2022-10-28 12:17:51,050 Warning: No enrich terms using library KEGG_2021_Human when cutoff = 0.05\n"
     ]
    },
    {
     "name": "stdout",
     "output_type": "stream",
     "text": [
      "PCPC1-bin2-cluster4: Number of gene: 719\n"
     ]
    },
    {
     "name": "stderr",
     "output_type": "stream",
     "text": [
      "2022-10-28 12:17:55,455 Warning: No enrich terms using library KEGG_2021_Human when cutoff = 0.05\n"
     ]
    },
    {
     "name": "stdout",
     "output_type": "stream",
     "text": [
      "PCPC1-bin2-cluster5: Number of gene: 239\n"
     ]
    },
    {
     "name": "stderr",
     "output_type": "stream",
     "text": [
      "2022-10-28 12:17:58,960 Warning: No enrich terms using library KEGG_2021_Human when cutoff = 0.05\n"
     ]
    },
    {
     "name": "stdout",
     "output_type": "stream",
     "text": [
      "PCPC1-bin2-cluster6: Number of gene: 1184\n"
     ]
    },
    {
     "name": "stderr",
     "output_type": "stream",
     "text": [
      "2022-10-28 12:18:04,673 Warning: No enrich terms using library KEGG_2021_Human when cutoff = 0.05\n"
     ]
    },
    {
     "name": "stdout",
     "output_type": "stream",
     "text": [
      "PCPC1-bin2-cluster7: Number of gene: 3132\n"
     ]
    },
    {
     "name": "stderr",
     "output_type": "stream",
     "text": [
      "2022-10-28 12:18:17,051 Warning: No enrich terms using library KEGG_2021_Human when cutoff = 0.05\n"
     ]
    },
    {
     "name": "stdout",
     "output_type": "stream",
     "text": [
      "PCPC1-bin2-cluster8: Number of gene: 1360\n"
     ]
    },
    {
     "name": "stderr",
     "output_type": "stream",
     "text": [
      "2022-10-28 12:18:23,905 Warning: No enrich terms using library KEGG_2021_Human when cutoff = 0.05\n"
     ]
    }
   ],
   "source": [
    "import gseapy\n",
    "save_dir = f\"{shapemode_dir}/gsea\"\n",
    "PC=\"PC1\"\n",
    "databases = list() #['GO_Biological_Process_2021', 'GO_Cellular_Component_2021', 'GO_Molecular_Function_2021', 'WikiPathway_2021_Human', 'KEGG_2021_Human']\n",
    "for i in range(3):\n",
    "    f = open(f\"{shapemode_dir}/covar/{PC}_{i}_cluster_assignation.json\",\"r\")\n",
    "    clusters = json.load(f)\n",
    "    for cluster in np.unique(clusters[\"assignation\"]):\n",
    "        gene_list = np.array(clusters[\"ensembl_ids\"])[np.where(np.array(clusters[\"assignation\"])==cluster)[0].astype('uint')]\n",
    "        gene_list = mappings[mappings.ensembl_ids.isin(gene_list)] #change from esembl_ids to gene_names (GO & KEGG needs this)\n",
    "        gene_list = gene_list.gene_names.unique().tolist()\n",
    "        gene_list = [g.split(\",\")[0] for g in gene_list]\n",
    "        print(f\"PC{PC}-bin{i}-cluster{cluster}: Number of gene: {len(gene_list)}\")\n",
    "        enr = gseapy.enrichr(gene_list=list(gene_list), gene_sets=databases, organism=\"human\",\n",
    "                         outdir=f'{save_dir}/{PC}_{i}_{cluster}', background='hsapiens_gene_ensembl', cutoff=0.05, format='pdf')\n",
    "        enr.results.head()"
   ]
  },
  {
   "cell_type": "code",
   "execution_count": 12,
   "id": "96245906",
   "metadata": {},
   "outputs": [
    {
     "name": "stderr",
     "output_type": "stream",
     "text": [
      "2022-10-26 16:05:23,175 Warning: No enrich terms using library GO_Biological_Process_2021 when cutoff = 0.05\n",
      "2022-10-26 16:05:26,534 Warning: No enrich terms using library GO_Biological_Process_2021 when cutoff = 0.05\n"
     ]
    }
   ],
   "source": [
    "###### TRY TO ENRICHR WITH DUPLICATED GENE LIST; NO CHANGE!\n",
    "enr = gseapy.enrichr(gene_list=list(gene_list), gene_sets='GO_Biological_Process_2021', organism=\"human\",\n",
    "                 outdir=f'{save_dir}/{PC}_{i}_{cluster}', background='hsapiens_gene_ensembl', cutoff=0.05, format='pdf')\n",
    "\n",
    "gene_list += ['STAB2','STAB2','STAB2','STAB2','STAB2','STAB2',\n",
    " 'LETM1',\n",
    " 'LETM1',\n",
    " 'MCOLN1',\n",
    " 'MCOLN1']\n",
    "enr2 = gseapy.enrichr(gene_list=list(gene_list), gene_sets='GO_Biological_Process_2021', organism=\"human\",\n",
    "                 outdir=f'{save_dir}/{PC}_{i}_{cluster}', background='hsapiens_gene_ensembl', cutoff=0.05, format='pdf')"
   ]
  },
  {
   "cell_type": "code",
   "execution_count": 14,
   "id": "ee532272",
   "metadata": {},
   "outputs": [
    {
     "data": {
      "text/plain": [
       "105"
      ]
     },
     "execution_count": 14,
     "metadata": {},
     "output_type": "execute_result"
    }
   ],
   "source": [
    "len(gene_list)"
   ]
  },
  {
   "cell_type": "markdown",
   "id": "f8ad0c01",
   "metadata": {},
   "source": [
    "# Stacked bar plot of organelle percentage"
   ]
  },
  {
   "cell_type": "code",
   "execution_count": 60,
   "id": "b7852c08",
   "metadata": {},
   "outputs": [
    {
     "data": {
      "text/plain": [
       "(1361, 8)"
      ]
     },
     "execution_count": 60,
     "metadata": {},
     "output_type": "execute_result"
    }
   ],
   "source": [
    "len(gene_list), cluster"
   ]
  },
  {
   "cell_type": "code",
   "execution_count": 20,
   "id": "4718a3f2",
   "metadata": {},
   "outputs": [
    {
     "name": "stdout",
     "output_type": "stream",
     "text": [
      "9724\n",
      "9777\n",
      "9712\n"
     ]
    }
   ],
   "source": [
    "import plotly.graph_objects as go\n",
    "for i in range(3):\n",
    "    f = open(f\"{shapemode_dir}/covar/{PC}_{i}_cluster_assignation.json\",\"r\")\n",
    "    clusters = json.load(f)\n",
    "    gene_list = clusters[\"ensembl_ids\"]\n",
    "    #gene_list = mappings[mappings.ensembl_ids.isin(gene_list)].unique()#.tolist()\n",
    "    #gene_list = [g.split(\",\")[0] for g in gene_list]\n",
    "    print(len(gene_list))"
   ]
  },
  {
   "cell_type": "code",
   "execution_count": 21,
   "id": "55bf8843",
   "metadata": {},
   "outputs": [],
   "source": [
    "f = open(f\"{shapemode_dir}/U-2_OS/PCA_ratio8/cells_assigned_to_pc_bins.json\",\"r\")\n",
    "cells_assigned = json.load(f)"
   ]
  },
  {
   "cell_type": "code",
   "execution_count": 24,
   "id": "0a93092e",
   "metadata": {},
   "outputs": [],
   "source": [
    "from utils import helpers\n",
    "LABEL_TO_ALIAS = {\n",
    "  0: 'Nucleoplasm',\n",
    "  1: 'NuclearM',\n",
    "  2: 'Nucleoli',\n",
    "  3: 'NucleoliFC',\n",
    "  4: 'NuclearS',\n",
    "  5: 'NuclearB',\n",
    "  6: 'EndoplasmicR',\n",
    "  7: 'GolgiA',\n",
    "  8: 'IntermediateF',\n",
    "  9: 'ActinF',\n",
    "  10: 'Microtubules',\n",
    "  11: 'MitoticS',\n",
    "  12: 'Centrosome',\n",
    "  13: 'PlasmaM',\n",
    "  14: 'Mitochondria',\n",
    "  15: 'Aggresome',\n",
    "  16: 'Cytosol',\n",
    "  17: 'VesiclesPCP',\n",
    "  #18: 'Negative',\n",
    "  #19:'Multi-Location',\n",
    "}\n",
    "\n",
    "all_locations = dict((v, k) for k,v in LABEL_TO_ALIAS.items())"
   ]
  },
  {
   "cell_type": "code",
   "execution_count": 25,
   "id": "f57ae286",
   "metadata": {},
   "outputs": [],
   "source": [
    "PC=\"PC1\"\n",
    "mappings[\"cell_idx\"] = [idx.split(\"_\",1)[1] for idx in mappings.id]\n",
    "pc_cells = cells_assigned[PC]\n",
    "merged_bins = [[0,1,2,3],[4,5,6],[7,8,9,10]]\n",
    "\"\"\"\n",
    "cells_flow = dict(\n",
    "      source = [], # indices correspond to labels, eg Nu, mito, ...\n",
    "      target = [2, 3, 3, 4, 4, 5],\n",
    "      value = [8, 4, 2, 8, 4, 2]\n",
    ")\n",
    "\"\"\"\n",
    "org_percent = {}\n",
    "gene_loc = {}\n",
    "for i, bin_ in enumerate(merged_bins):\n",
    "    ls = [pc_cells[b] for b in bin_]\n",
    "    ls = helpers.flatten_list(ls)\n",
    "    ls = [os.path.basename(l).replace(\".npy\",\"\") for l in ls]\n",
    "    df_sl = mappings[mappings.cell_idx.isin(ls)]\n",
    "    df_sl = df_sl[df_sl.location.isin(LABEL_TO_ALIAS.values())] # rm Negative, Multi-loc\n",
    "    org_percent[f\"bin{i}\"] = df_sl.target.value_counts().to_dict()"
   ]
  },
  {
   "cell_type": "code",
   "execution_count": 35,
   "id": "21bcf485",
   "metadata": {},
   "outputs": [
    {
     "data": {
      "text/html": [
       "<div>\n",
       "<style scoped>\n",
       "    .dataframe tbody tr th:only-of-type {\n",
       "        vertical-align: middle;\n",
       "    }\n",
       "\n",
       "    .dataframe tbody tr th {\n",
       "        vertical-align: top;\n",
       "    }\n",
       "\n",
       "    .dataframe thead th {\n",
       "        text-align: right;\n",
       "    }\n",
       "</style>\n",
       "<table border=\"1\" class=\"dataframe\">\n",
       "  <thead>\n",
       "    <tr style=\"text-align: right;\">\n",
       "      <th></th>\n",
       "      <th>target</th>\n",
       "    </tr>\n",
       "    <tr>\n",
       "      <th>gene_names</th>\n",
       "      <th></th>\n",
       "    </tr>\n",
       "  </thead>\n",
       "  <tbody>\n",
       "    <tr>\n",
       "      <th>AAAS</th>\n",
       "      <td>{NuclearM}</td>\n",
       "    </tr>\n",
       "    <tr>\n",
       "      <th>AACS</th>\n",
       "      <td>{VesiclesPCP}</td>\n",
       "    </tr>\n",
       "    <tr>\n",
       "      <th>AADAT</th>\n",
       "      <td>{PlasmaM}</td>\n",
       "    </tr>\n",
       "    <tr>\n",
       "      <th>AAGAB</th>\n",
       "      <td>{Cytosol}</td>\n",
       "    </tr>\n",
       "    <tr>\n",
       "      <th>AAK1</th>\n",
       "      <td>{Cytosol}</td>\n",
       "    </tr>\n",
       "    <tr>\n",
       "      <th>...</th>\n",
       "      <td>...</td>\n",
       "    </tr>\n",
       "    <tr>\n",
       "      <th>ZWINT</th>\n",
       "      <td>{NuclearB, Nucleoplasm}</td>\n",
       "    </tr>\n",
       "    <tr>\n",
       "      <th>ZXDA,ZXDB</th>\n",
       "      <td>{Nucleoplasm}</td>\n",
       "    </tr>\n",
       "    <tr>\n",
       "      <th>ZXDC</th>\n",
       "      <td>{Nucleoli}</td>\n",
       "    </tr>\n",
       "    <tr>\n",
       "      <th>ZYG11B</th>\n",
       "      <td>{IntermediateF}</td>\n",
       "    </tr>\n",
       "    <tr>\n",
       "      <th>ZYX</th>\n",
       "      <td>{PlasmaM, ActinF}</td>\n",
       "    </tr>\n",
       "  </tbody>\n",
       "</table>\n",
       "<p>8717 rows × 1 columns</p>\n",
       "</div>"
      ],
      "text/plain": [
       "                             target\n",
       "gene_names                         \n",
       "AAAS                     {NuclearM}\n",
       "AACS                  {VesiclesPCP}\n",
       "AADAT                     {PlasmaM}\n",
       "AAGAB                     {Cytosol}\n",
       "AAK1                      {Cytosol}\n",
       "...                             ...\n",
       "ZWINT       {NuclearB, Nucleoplasm}\n",
       "ZXDA,ZXDB             {Nucleoplasm}\n",
       "ZXDC                     {Nucleoli}\n",
       "ZYG11B              {IntermediateF}\n",
       "ZYX               {PlasmaM, ActinF}\n",
       "\n",
       "[8717 rows x 1 columns]"
      ]
     },
     "execution_count": 35,
     "metadata": {},
     "output_type": "execute_result"
    }
   ],
   "source": [
    "def f(x):\n",
    "     return pd.Series(dict(C = \"{%s}\" % ', '.join(x['target'])))\n",
    "    \n",
    "#df_sl.groupby(\"gene_names\").apply(f)\n",
    "df_sl.groupby(\"gene_names\").agg({\"target\":set})"
   ]
  },
  {
   "cell_type": "code",
   "execution_count": 26,
   "id": "aa5cf620",
   "metadata": {},
   "outputs": [
    {
     "data": {
      "text/html": [
       "<div>\n",
       "<style scoped>\n",
       "    .dataframe tbody tr th:only-of-type {\n",
       "        vertical-align: middle;\n",
       "    }\n",
       "\n",
       "    .dataframe tbody tr th {\n",
       "        vertical-align: top;\n",
       "    }\n",
       "\n",
       "    .dataframe thead th {\n",
       "        text-align: right;\n",
       "    }\n",
       "</style>\n",
       "<table border=\"1\" class=\"dataframe\">\n",
       "  <thead>\n",
       "    <tr style=\"text-align: right;\">\n",
       "      <th></th>\n",
       "      <th>bin0</th>\n",
       "      <th>bin1</th>\n",
       "      <th>bin2</th>\n",
       "    </tr>\n",
       "  </thead>\n",
       "  <tbody>\n",
       "    <tr>\n",
       "      <th>Nucleoplasm</th>\n",
       "      <td>23593</td>\n",
       "      <td>23393.0</td>\n",
       "      <td>16434.0</td>\n",
       "    </tr>\n",
       "    <tr>\n",
       "      <th>Cytosol</th>\n",
       "      <td>13944</td>\n",
       "      <td>13963.0</td>\n",
       "      <td>9697.0</td>\n",
       "    </tr>\n",
       "    <tr>\n",
       "      <th>Mitochondria</th>\n",
       "      <td>5008</td>\n",
       "      <td>5483.0</td>\n",
       "      <td>3918.0</td>\n",
       "    </tr>\n",
       "    <tr>\n",
       "      <th>VesiclesPCP</th>\n",
       "      <td>4297</td>\n",
       "      <td>4600.0</td>\n",
       "      <td>3109.0</td>\n",
       "    </tr>\n",
       "    <tr>\n",
       "      <th>Nucleoli</th>\n",
       "      <td>2872</td>\n",
       "      <td>2522.0</td>\n",
       "      <td>1542.0</td>\n",
       "    </tr>\n",
       "    <tr>\n",
       "      <th>PlasmaM</th>\n",
       "      <td>2093</td>\n",
       "      <td>2765.0</td>\n",
       "      <td>2164.0</td>\n",
       "    </tr>\n",
       "    <tr>\n",
       "      <th>GolgiA</th>\n",
       "      <td>1903</td>\n",
       "      <td>1932.0</td>\n",
       "      <td>1241.0</td>\n",
       "    </tr>\n",
       "    <tr>\n",
       "      <th>NuclearS</th>\n",
       "      <td>1898</td>\n",
       "      <td>1779.0</td>\n",
       "      <td>979.0</td>\n",
       "    </tr>\n",
       "    <tr>\n",
       "      <th>EndoplasmicR</th>\n",
       "      <td>1286</td>\n",
       "      <td>1473.0</td>\n",
       "      <td>904.0</td>\n",
       "    </tr>\n",
       "    <tr>\n",
       "      <th>Microtubules</th>\n",
       "      <td>733</td>\n",
       "      <td>914.0</td>\n",
       "      <td>688.0</td>\n",
       "    </tr>\n",
       "    <tr>\n",
       "      <th>NucleoliFC</th>\n",
       "      <td>573</td>\n",
       "      <td>541.0</td>\n",
       "      <td>300.0</td>\n",
       "    </tr>\n",
       "    <tr>\n",
       "      <th>NuclearB</th>\n",
       "      <td>515</td>\n",
       "      <td>546.0</td>\n",
       "      <td>359.0</td>\n",
       "    </tr>\n",
       "    <tr>\n",
       "      <th>NuclearM</th>\n",
       "      <td>498</td>\n",
       "      <td>577.0</td>\n",
       "      <td>364.0</td>\n",
       "    </tr>\n",
       "    <tr>\n",
       "      <th>ActinF</th>\n",
       "      <td>399</td>\n",
       "      <td>537.0</td>\n",
       "      <td>412.0</td>\n",
       "    </tr>\n",
       "    <tr>\n",
       "      <th>Centrosome</th>\n",
       "      <td>316</td>\n",
       "      <td>373.0</td>\n",
       "      <td>259.0</td>\n",
       "    </tr>\n",
       "    <tr>\n",
       "      <th>IntermediateF</th>\n",
       "      <td>260</td>\n",
       "      <td>290.0</td>\n",
       "      <td>228.0</td>\n",
       "    </tr>\n",
       "    <tr>\n",
       "      <th>MitoticS</th>\n",
       "      <td>30</td>\n",
       "      <td>NaN</td>\n",
       "      <td>NaN</td>\n",
       "    </tr>\n",
       "    <tr>\n",
       "      <th>Aggresome</th>\n",
       "      <td>11</td>\n",
       "      <td>12.0</td>\n",
       "      <td>9.0</td>\n",
       "    </tr>\n",
       "  </tbody>\n",
       "</table>\n",
       "</div>"
      ],
      "text/plain": [
       "                bin0     bin1     bin2\n",
       "Nucleoplasm    23593  23393.0  16434.0\n",
       "Cytosol        13944  13963.0   9697.0\n",
       "Mitochondria    5008   5483.0   3918.0\n",
       "VesiclesPCP     4297   4600.0   3109.0\n",
       "Nucleoli        2872   2522.0   1542.0\n",
       "PlasmaM         2093   2765.0   2164.0\n",
       "GolgiA          1903   1932.0   1241.0\n",
       "NuclearS        1898   1779.0    979.0\n",
       "EndoplasmicR    1286   1473.0    904.0\n",
       "Microtubules     733    914.0    688.0\n",
       "NucleoliFC       573    541.0    300.0\n",
       "NuclearB         515    546.0    359.0\n",
       "NuclearM         498    577.0    364.0\n",
       "ActinF           399    537.0    412.0\n",
       "Centrosome       316    373.0    259.0\n",
       "IntermediateF    260    290.0    228.0\n",
       "MitoticS          30      NaN      NaN\n",
       "Aggresome         11     12.0      9.0"
      ]
     },
     "execution_count": 26,
     "metadata": {},
     "output_type": "execute_result"
    }
   ],
   "source": [
    "df = pd.DataFrame(org_percent)\n",
    "df"
   ]
  },
  {
   "cell_type": "code",
   "execution_count": 183,
   "id": "ed297463",
   "metadata": {},
   "outputs": [
    {
     "data": {
      "text/plain": [
       "<matplotlib.legend.Legend at 0x7fac29a04400>"
      ]
     },
     "execution_count": 183,
     "metadata": {},
     "output_type": "execute_result"
    },
    {
     "data": {
      "image/png": "[encoded data removed]",
      "text/plain": [
       "<Figure size 360x360 with 1 Axes>"
      ]
     },
     "metadata": {},
     "output_type": "display_data"
    }
   ],
   "source": [
    "import matplotlib.pyplot as plt\n",
    "import seaborn as sns\n",
    "\n",
    "#set seaborn plotting aesthetics\n",
    "sns.set(style='white')\n",
    "df.transpose().plot(kind='bar', \n",
    "                    stacked=True, \n",
    "                    color=COLORS[:len(LABEL_TO_ALIAS.keys())],\n",
    "                   figsize=(5,5))\n",
    "plt.legend(bbox_to_anchor=(1,1), loc=\"upper left\")\n"
   ]
  },
  {
   "cell_type": "code",
   "execution_count": 184,
   "id": "1973d2dc",
   "metadata": {},
   "outputs": [
    {
     "data": {
      "text/html": [
       "<div>\n",
       "<style scoped>\n",
       "    .dataframe tbody tr th:only-of-type {\n",
       "        vertical-align: middle;\n",
       "    }\n",
       "\n",
       "    .dataframe tbody tr th {\n",
       "        vertical-align: top;\n",
       "    }\n",
       "\n",
       "    .dataframe thead th {\n",
       "        text-align: right;\n",
       "    }\n",
       "</style>\n",
       "<table border=\"1\" class=\"dataframe\">\n",
       "  <thead>\n",
       "    <tr style=\"text-align: right;\">\n",
       "      <th></th>\n",
       "      <th>Nucleoplasm</th>\n",
       "      <th>Cytosol</th>\n",
       "      <th>Mitochondria</th>\n",
       "      <th>VesiclesPCP</th>\n",
       "      <th>PlasmaM</th>\n",
       "      <th>Nucleoli</th>\n",
       "      <th>GolgiA</th>\n",
       "      <th>NuclearS</th>\n",
       "      <th>EndoplasmicR</th>\n",
       "      <th>Microtubules</th>\n",
       "      <th>ActinF</th>\n",
       "      <th>NuclearM</th>\n",
       "      <th>NuclearB</th>\n",
       "      <th>NucleoliFC</th>\n",
       "      <th>Centrosome</th>\n",
       "      <th>IntermediateF</th>\n",
       "      <th>Aggresome</th>\n",
       "      <th>MitoticS</th>\n",
       "      <th>total</th>\n",
       "    </tr>\n",
       "  </thead>\n",
       "  <tbody>\n",
       "    <tr>\n",
       "      <th>bin0</th>\n",
       "      <td>37.18</td>\n",
       "      <td>23.13</td>\n",
       "      <td>9.10</td>\n",
       "      <td>7.43</td>\n",
       "      <td>5.15</td>\n",
       "      <td>3.69</td>\n",
       "      <td>3.19</td>\n",
       "      <td>2.50</td>\n",
       "      <td>2.43</td>\n",
       "      <td>1.52</td>\n",
       "      <td>0.95</td>\n",
       "      <td>0.88</td>\n",
       "      <td>0.87</td>\n",
       "      <td>0.73</td>\n",
       "      <td>0.71</td>\n",
       "      <td>0.53</td>\n",
       "      <td>0.01</td>\n",
       "      <td>0.00</td>\n",
       "      <td>100.0</td>\n",
       "    </tr>\n",
       "    <tr>\n",
       "      <th>bin1</th>\n",
       "      <td>38.76</td>\n",
       "      <td>22.73</td>\n",
       "      <td>8.73</td>\n",
       "      <td>7.20</td>\n",
       "      <td>3.97</td>\n",
       "      <td>4.50</td>\n",
       "      <td>3.11</td>\n",
       "      <td>2.96</td>\n",
       "      <td>2.20</td>\n",
       "      <td>1.35</td>\n",
       "      <td>0.77</td>\n",
       "      <td>0.88</td>\n",
       "      <td>0.87</td>\n",
       "      <td>0.93</td>\n",
       "      <td>0.54</td>\n",
       "      <td>0.44</td>\n",
       "      <td>0.02</td>\n",
       "      <td>0.04</td>\n",
       "      <td>100.0</td>\n",
       "    </tr>\n",
       "    <tr>\n",
       "      <th>bin2</th>\n",
       "      <td>39.58</td>\n",
       "      <td>22.74</td>\n",
       "      <td>8.46</td>\n",
       "      <td>7.28</td>\n",
       "      <td>3.79</td>\n",
       "      <td>4.37</td>\n",
       "      <td>2.96</td>\n",
       "      <td>2.98</td>\n",
       "      <td>2.06</td>\n",
       "      <td>1.41</td>\n",
       "      <td>0.76</td>\n",
       "      <td>0.87</td>\n",
       "      <td>0.85</td>\n",
       "      <td>0.89</td>\n",
       "      <td>0.49</td>\n",
       "      <td>0.46</td>\n",
       "      <td>0.03</td>\n",
       "      <td>0.01</td>\n",
       "      <td>100.0</td>\n",
       "    </tr>\n",
       "  </tbody>\n",
       "</table>\n",
       "</div>"
      ],
      "text/plain": [
       "      Nucleoplasm  Cytosol  Mitochondria  VesiclesPCP  PlasmaM  Nucleoli  \\\n",
       "bin0        37.18    23.13          9.10         7.43     5.15      3.69   \n",
       "bin1        38.76    22.73          8.73         7.20     3.97      4.50   \n",
       "bin2        39.58    22.74          8.46         7.28     3.79      4.37   \n",
       "\n",
       "      GolgiA  NuclearS  EndoplasmicR  Microtubules  ActinF  NuclearM  \\\n",
       "bin0    3.19      2.50          2.43          1.52    0.95      0.88   \n",
       "bin1    3.11      2.96          2.20          1.35    0.77      0.88   \n",
       "bin2    2.96      2.98          2.06          1.41    0.76      0.87   \n",
       "\n",
       "      NuclearB  NucleoliFC  Centrosome  IntermediateF  Aggresome  MitoticS  \\\n",
       "bin0      0.87        0.73        0.71           0.53       0.01      0.00   \n",
       "bin1      0.87        0.93        0.54           0.44       0.02      0.04   \n",
       "bin2      0.85        0.89        0.49           0.46       0.03      0.01   \n",
       "\n",
       "      total  \n",
       "bin0  100.0  \n",
       "bin1  100.0  \n",
       "bin2  100.0  "
      ]
     },
     "execution_count": 184,
     "metadata": {},
     "output_type": "execute_result"
    },
    {
     "data": {
      "image/png": "[encoded data removed]",
      "text/plain": [
       "<Figure size 360x360 with 1 Axes>"
      ]
     },
     "metadata": {},
     "output_type": "display_data"
    }
   ],
   "source": [
    "df = df.transpose()\n",
    "df[\"total\"] = df.sum(axis=1, skipna=True)\n",
    "df.iloc[:, :] = df.iloc[:, :].div(df['total'], axis=0).mul(100).round(2)\n",
    "\n",
    "sns.set(style='white')\n",
    "df.drop('total', axis=1).plot(kind='bar',\n",
    "        stacked=True, \n",
    "        color=COLORS[:len(LABEL_TO_ALIAS.keys())],\n",
    "        figsize=(5,5))\n",
    "plt.legend(bbox_to_anchor=(1,1), loc=\"upper left\")\n",
    "df"
   ]
  },
  {
   "cell_type": "code",
   "execution_count": 57,
   "id": "67eeb579",
   "metadata": {},
   "outputs": [
    {
     "data": {
      "text/plain": [
       "(10009, 9825, 10012, 9828)"
      ]
     },
     "execution_count": 57,
     "metadata": {},
     "output_type": "execute_result"
    }
   ],
   "source": [
    "len(mappings.gene_names.unique()),len(mappings[mappings.target != \"Multi-Location\"].gene_names.unique()), len(mappings.ensembl_ids.unique()),len(mappings[mappings.target != \"Multi-Location\"].ensembl_ids.unique()) "
   ]
  },
  {
   "cell_type": "code",
   "execution_count": 193,
   "id": "f7601dab",
   "metadata": {},
   "outputs": [
    {
     "data": {
      "text/plain": [
       "[39.58,\n",
       " 23.13,\n",
       " 9.1,\n",
       " 7.43,\n",
       " 5.15,\n",
       " 4.5,\n",
       " 3.19,\n",
       " 2.98,\n",
       " 2.43,\n",
       " 1.52,\n",
       " 0.95,\n",
       " 0.88,\n",
       " 0.87,\n",
       " 0.93,\n",
       " 0.71,\n",
       " 0.53,\n",
       " 0.03,\n",
       " 0.04,\n",
       " 100.0]"
      ]
     },
     "execution_count": 193,
     "metadata": {},
     "output_type": "execute_result"
    }
   ],
   "source": [
    "df.max(axis=0).tolist()"
   ]
  },
  {
   "cell_type": "markdown",
   "id": "82a07c21",
   "metadata": {},
   "source": [
    "# Sankey plot"
   ]
  },
  {
   "cell_type": "code",
   "execution_count": 59,
   "id": "e4afe7b1",
   "metadata": {
    "scrolled": true
   },
   "outputs": [
    {
     "ename": "ValueError",
     "evalue": "\n    Invalid value of type 'builtins.dict_keys' received for the 'label' property of sankey.node\n        Received value: dict_keys([0, 1, 2, 3, 4, 5, 6, 7, 8, 9, 10, 11, 12, 13, 14, 15, 16, 17])\n\n    The 'label' property is an array that may be specified as a tuple,\n    list, numpy array, or pandas Series",
     "output_type": "error",
     "traceback": [
      "\u001b[0;31m---------------------------------------------------------------------------\u001b[0m",
      "\u001b[0;31mValueError\u001b[0m                                Traceback (most recent call last)",
      "\u001b[0;32m/tmp/ipykernel_712/3244169709.py\u001b[0m in \u001b[0;36m<module>\u001b[0;34m\u001b[0m\n\u001b[1;32m     30\u001b[0m     \u001b[0;34m'#00e676'\u001b[0m\u001b[0;34m,\u001b[0m \u001b[0;34m'#64ffda'\u001b[0m\u001b[0;34m,\u001b[0m \u001b[0;34m'#18ffff'\u001b[0m\u001b[0;34m,\u001b[0m\u001b[0;34m\u001b[0m\u001b[0;34m\u001b[0m\u001b[0m\n\u001b[1;32m     31\u001b[0m ]\n\u001b[0;32m---> 32\u001b[0;31m fig = go.Figure(data=[go.Sankey(\n\u001b[0m\u001b[1;32m     33\u001b[0m     node = dict(\n\u001b[1;32m     34\u001b[0m       \u001b[0mpad\u001b[0m \u001b[0;34m=\u001b[0m \u001b[0;36m15\u001b[0m\u001b[0;34m,\u001b[0m\u001b[0;34m\u001b[0m\u001b[0;34m\u001b[0m\u001b[0m\n",
      "\u001b[0;32m~/anaconda3/lib/python3.8/site-packages/plotly/graph_objs/_sankey.py\u001b[0m in \u001b[0;36m__init__\u001b[0;34m(self, arg, arrangement, customdata, customdatasrc, domain, hoverinfo, hoverlabel, ids, idssrc, legendgrouptitle, legendrank, link, meta, metasrc, name, node, orientation, selectedpoints, stream, textfont, uid, uirevision, valueformat, valuesuffix, visible, **kwargs)\u001b[0m\n\u001b[1;32m   1271\u001b[0m         \u001b[0m_v\u001b[0m \u001b[0;34m=\u001b[0m \u001b[0mnode\u001b[0m \u001b[0;32mif\u001b[0m \u001b[0mnode\u001b[0m \u001b[0;32mis\u001b[0m \u001b[0;32mnot\u001b[0m \u001b[0;32mNone\u001b[0m \u001b[0;32melse\u001b[0m \u001b[0m_v\u001b[0m\u001b[0;34m\u001b[0m\u001b[0;34m\u001b[0m\u001b[0m\n\u001b[1;32m   1272\u001b[0m         \u001b[0;32mif\u001b[0m \u001b[0m_v\u001b[0m \u001b[0;32mis\u001b[0m \u001b[0;32mnot\u001b[0m \u001b[0;32mNone\u001b[0m\u001b[0;34m:\u001b[0m\u001b[0;34m\u001b[0m\u001b[0;34m\u001b[0m\u001b[0m\n\u001b[0;32m-> 1273\u001b[0;31m             \u001b[0mself\u001b[0m\u001b[0;34m[\u001b[0m\u001b[0;34m\"node\"\u001b[0m\u001b[0;34m]\u001b[0m \u001b[0;34m=\u001b[0m \u001b[0m_v\u001b[0m\u001b[0;34m\u001b[0m\u001b[0;34m\u001b[0m\u001b[0m\n\u001b[0m\u001b[1;32m   1274\u001b[0m         \u001b[0m_v\u001b[0m \u001b[0;34m=\u001b[0m \u001b[0marg\u001b[0m\u001b[0;34m.\u001b[0m\u001b[0mpop\u001b[0m\u001b[0;34m(\u001b[0m\u001b[0;34m\"orientation\"\u001b[0m\u001b[0;34m,\u001b[0m \u001b[0;32mNone\u001b[0m\u001b[0;34m)\u001b[0m\u001b[0;34m\u001b[0m\u001b[0;34m\u001b[0m\u001b[0m\n\u001b[1;32m   1275\u001b[0m         \u001b[0m_v\u001b[0m \u001b[0;34m=\u001b[0m \u001b[0morientation\u001b[0m \u001b[0;32mif\u001b[0m \u001b[0morientation\u001b[0m \u001b[0;32mis\u001b[0m \u001b[0;32mnot\u001b[0m \u001b[0;32mNone\u001b[0m \u001b[0;32melse\u001b[0m \u001b[0m_v\u001b[0m\u001b[0;34m\u001b[0m\u001b[0;34m\u001b[0m\u001b[0m\n",
      "\u001b[0;32m~/anaconda3/lib/python3.8/site-packages/plotly/basedatatypes.py\u001b[0m in \u001b[0;36m__setitem__\u001b[0;34m(self, prop, value)\u001b[0m\n\u001b[1;32m   4849\u001b[0m                 \u001b[0;31m# ### Handle compound property ###\u001b[0m\u001b[0;34m\u001b[0m\u001b[0;34m\u001b[0m\u001b[0;34m\u001b[0m\u001b[0m\n\u001b[1;32m   4850\u001b[0m                 \u001b[0;32mif\u001b[0m \u001b[0misinstance\u001b[0m\u001b[0;34m(\u001b[0m\u001b[0mvalidator\u001b[0m\u001b[0;34m,\u001b[0m \u001b[0mCompoundValidator\u001b[0m\u001b[0;34m)\u001b[0m\u001b[0;34m:\u001b[0m\u001b[0;34m\u001b[0m\u001b[0;34m\u001b[0m\u001b[0m\n\u001b[0;32m-> 4851\u001b[0;31m                     \u001b[0mself\u001b[0m\u001b[0;34m.\u001b[0m\u001b[0m_set_compound_prop\u001b[0m\u001b[0;34m(\u001b[0m\u001b[0mprop\u001b[0m\u001b[0;34m,\u001b[0m \u001b[0mvalue\u001b[0m\u001b[0;34m)\u001b[0m\u001b[0;34m\u001b[0m\u001b[0;34m\u001b[0m\u001b[0m\n\u001b[0m\u001b[1;32m   4852\u001b[0m \u001b[0;34m\u001b[0m\u001b[0m\n\u001b[1;32m   4853\u001b[0m                 \u001b[0;31m# ### Handle compound array property ###\u001b[0m\u001b[0;34m\u001b[0m\u001b[0;34m\u001b[0m\u001b[0;34m\u001b[0m\u001b[0m\n",
      "\u001b[0;32m~/anaconda3/lib/python3.8/site-packages/plotly/basedatatypes.py\u001b[0m in \u001b[0;36m_set_compound_prop\u001b[0;34m(self, prop, val)\u001b[0m\n\u001b[1;32m   5260\u001b[0m         \u001b[0;31m# ------------\u001b[0m\u001b[0;34m\u001b[0m\u001b[0;34m\u001b[0m\u001b[0;34m\u001b[0m\u001b[0m\n\u001b[1;32m   5261\u001b[0m         \u001b[0mvalidator\u001b[0m \u001b[0;34m=\u001b[0m \u001b[0mself\u001b[0m\u001b[0;34m.\u001b[0m\u001b[0m_get_validator\u001b[0m\u001b[0;34m(\u001b[0m\u001b[0mprop\u001b[0m\u001b[0;34m)\u001b[0m\u001b[0;34m\u001b[0m\u001b[0;34m\u001b[0m\u001b[0m\n\u001b[0;32m-> 5262\u001b[0;31m         \u001b[0mval\u001b[0m \u001b[0;34m=\u001b[0m \u001b[0mvalidator\u001b[0m\u001b[0;34m.\u001b[0m\u001b[0mvalidate_coerce\u001b[0m\u001b[0;34m(\u001b[0m\u001b[0mval\u001b[0m\u001b[0;34m,\u001b[0m \u001b[0mskip_invalid\u001b[0m\u001b[0;34m=\u001b[0m\u001b[0mself\u001b[0m\u001b[0;34m.\u001b[0m\u001b[0m_skip_invalid\u001b[0m\u001b[0;34m)\u001b[0m\u001b[0;34m\u001b[0m\u001b[0;34m\u001b[0m\u001b[0m\n\u001b[0m\u001b[1;32m   5263\u001b[0m \u001b[0;34m\u001b[0m\u001b[0m\n\u001b[1;32m   5264\u001b[0m         \u001b[0;31m# Save deep copies of current and new states\u001b[0m\u001b[0;34m\u001b[0m\u001b[0;34m\u001b[0m\u001b[0;34m\u001b[0m\u001b[0m\n",
      "\u001b[0;32m~/anaconda3/lib/python3.8/site-packages/_plotly_utils/basevalidators.py\u001b[0m in \u001b[0;36mvalidate_coerce\u001b[0;34m(self, v, skip_invalid, _validate)\u001b[0m\n\u001b[1;32m   2453\u001b[0m \u001b[0;34m\u001b[0m\u001b[0m\n\u001b[1;32m   2454\u001b[0m         \u001b[0;32melif\u001b[0m \u001b[0misinstance\u001b[0m\u001b[0;34m(\u001b[0m\u001b[0mv\u001b[0m\u001b[0;34m,\u001b[0m \u001b[0mdict\u001b[0m\u001b[0;34m)\u001b[0m\u001b[0;34m:\u001b[0m\u001b[0;34m\u001b[0m\u001b[0;34m\u001b[0m\u001b[0m\n\u001b[0;32m-> 2455\u001b[0;31m             \u001b[0mv\u001b[0m \u001b[0;34m=\u001b[0m \u001b[0mself\u001b[0m\u001b[0;34m.\u001b[0m\u001b[0mdata_class\u001b[0m\u001b[0;34m(\u001b[0m\u001b[0mv\u001b[0m\u001b[0;34m,\u001b[0m \u001b[0mskip_invalid\u001b[0m\u001b[0;34m=\u001b[0m\u001b[0mskip_invalid\u001b[0m\u001b[0;34m,\u001b[0m \u001b[0m_validate\u001b[0m\u001b[0;34m=\u001b[0m\u001b[0m_validate\u001b[0m\u001b[0;34m)\u001b[0m\u001b[0;34m\u001b[0m\u001b[0;34m\u001b[0m\u001b[0m\n\u001b[0m\u001b[1;32m   2456\u001b[0m \u001b[0;34m\u001b[0m\u001b[0m\n\u001b[1;32m   2457\u001b[0m         \u001b[0;32melif\u001b[0m \u001b[0misinstance\u001b[0m\u001b[0;34m(\u001b[0m\u001b[0mv\u001b[0m\u001b[0;34m,\u001b[0m \u001b[0mself\u001b[0m\u001b[0;34m.\u001b[0m\u001b[0mdata_class\u001b[0m\u001b[0;34m)\u001b[0m\u001b[0;34m:\u001b[0m\u001b[0;34m\u001b[0m\u001b[0;34m\u001b[0m\u001b[0m\n",
      "\u001b[0;32m~/anaconda3/lib/python3.8/site-packages/plotly/graph_objs/sankey/_node.py\u001b[0m in \u001b[0;36m__init__\u001b[0;34m(self, arg, color, colorsrc, customdata, customdatasrc, groups, hoverinfo, hoverlabel, hovertemplate, hovertemplatesrc, label, labelsrc, line, pad, thickness, x, xsrc, y, ysrc, **kwargs)\u001b[0m\n\u001b[1;32m    800\u001b[0m         \u001b[0m_v\u001b[0m \u001b[0;34m=\u001b[0m \u001b[0mlabel\u001b[0m \u001b[0;32mif\u001b[0m \u001b[0mlabel\u001b[0m \u001b[0;32mis\u001b[0m \u001b[0;32mnot\u001b[0m \u001b[0;32mNone\u001b[0m \u001b[0;32melse\u001b[0m \u001b[0m_v\u001b[0m\u001b[0;34m\u001b[0m\u001b[0;34m\u001b[0m\u001b[0m\n\u001b[1;32m    801\u001b[0m         \u001b[0;32mif\u001b[0m \u001b[0m_v\u001b[0m \u001b[0;32mis\u001b[0m \u001b[0;32mnot\u001b[0m \u001b[0;32mNone\u001b[0m\u001b[0;34m:\u001b[0m\u001b[0;34m\u001b[0m\u001b[0;34m\u001b[0m\u001b[0m\n\u001b[0;32m--> 802\u001b[0;31m             \u001b[0mself\u001b[0m\u001b[0;34m[\u001b[0m\u001b[0;34m\"label\"\u001b[0m\u001b[0;34m]\u001b[0m \u001b[0;34m=\u001b[0m \u001b[0m_v\u001b[0m\u001b[0;34m\u001b[0m\u001b[0;34m\u001b[0m\u001b[0m\n\u001b[0m\u001b[1;32m    803\u001b[0m         \u001b[0m_v\u001b[0m \u001b[0;34m=\u001b[0m \u001b[0marg\u001b[0m\u001b[0;34m.\u001b[0m\u001b[0mpop\u001b[0m\u001b[0;34m(\u001b[0m\u001b[0;34m\"labelsrc\"\u001b[0m\u001b[0;34m,\u001b[0m \u001b[0;32mNone\u001b[0m\u001b[0;34m)\u001b[0m\u001b[0;34m\u001b[0m\u001b[0;34m\u001b[0m\u001b[0m\n\u001b[1;32m    804\u001b[0m         \u001b[0m_v\u001b[0m \u001b[0;34m=\u001b[0m \u001b[0mlabelsrc\u001b[0m \u001b[0;32mif\u001b[0m \u001b[0mlabelsrc\u001b[0m \u001b[0;32mis\u001b[0m \u001b[0;32mnot\u001b[0m \u001b[0;32mNone\u001b[0m \u001b[0;32melse\u001b[0m \u001b[0m_v\u001b[0m\u001b[0;34m\u001b[0m\u001b[0;34m\u001b[0m\u001b[0m\n",
      "\u001b[0;32m~/anaconda3/lib/python3.8/site-packages/plotly/basedatatypes.py\u001b[0m in \u001b[0;36m__setitem__\u001b[0;34m(self, prop, value)\u001b[0m\n\u001b[1;32m   4857\u001b[0m                 \u001b[0;31m# ### Handle simple property ###\u001b[0m\u001b[0;34m\u001b[0m\u001b[0;34m\u001b[0m\u001b[0;34m\u001b[0m\u001b[0m\n\u001b[1;32m   4858\u001b[0m                 \u001b[0;32melse\u001b[0m\u001b[0;34m:\u001b[0m\u001b[0;34m\u001b[0m\u001b[0;34m\u001b[0m\u001b[0m\n\u001b[0;32m-> 4859\u001b[0;31m                     \u001b[0mself\u001b[0m\u001b[0;34m.\u001b[0m\u001b[0m_set_prop\u001b[0m\u001b[0;34m(\u001b[0m\u001b[0mprop\u001b[0m\u001b[0;34m,\u001b[0m \u001b[0mvalue\u001b[0m\u001b[0;34m)\u001b[0m\u001b[0;34m\u001b[0m\u001b[0;34m\u001b[0m\u001b[0m\n\u001b[0m\u001b[1;32m   4860\u001b[0m             \u001b[0;32melse\u001b[0m\u001b[0;34m:\u001b[0m\u001b[0;34m\u001b[0m\u001b[0;34m\u001b[0m\u001b[0m\n\u001b[1;32m   4861\u001b[0m                 \u001b[0;31m# Make sure properties dict is initialized\u001b[0m\u001b[0;34m\u001b[0m\u001b[0;34m\u001b[0m\u001b[0;34m\u001b[0m\u001b[0m\n",
      "\u001b[0;32m~/anaconda3/lib/python3.8/site-packages/plotly/basedatatypes.py\u001b[0m in \u001b[0;36m_set_prop\u001b[0;34m(self, prop, val)\u001b[0m\n\u001b[1;32m   5201\u001b[0m                 \u001b[0;32mreturn\u001b[0m\u001b[0;34m\u001b[0m\u001b[0;34m\u001b[0m\u001b[0m\n\u001b[1;32m   5202\u001b[0m             \u001b[0;32melse\u001b[0m\u001b[0;34m:\u001b[0m\u001b[0;34m\u001b[0m\u001b[0;34m\u001b[0m\u001b[0m\n\u001b[0;32m-> 5203\u001b[0;31m                 \u001b[0;32mraise\u001b[0m \u001b[0merr\u001b[0m\u001b[0;34m\u001b[0m\u001b[0;34m\u001b[0m\u001b[0m\n\u001b[0m\u001b[1;32m   5204\u001b[0m \u001b[0;34m\u001b[0m\u001b[0m\n\u001b[1;32m   5205\u001b[0m         \u001b[0;31m# val is None\u001b[0m\u001b[0;34m\u001b[0m\u001b[0;34m\u001b[0m\u001b[0;34m\u001b[0m\u001b[0m\n",
      "\u001b[0;32m~/anaconda3/lib/python3.8/site-packages/plotly/basedatatypes.py\u001b[0m in \u001b[0;36m_set_prop\u001b[0;34m(self, prop, val)\u001b[0m\n\u001b[1;32m   5196\u001b[0m \u001b[0;34m\u001b[0m\u001b[0m\n\u001b[1;32m   5197\u001b[0m         \u001b[0;32mtry\u001b[0m\u001b[0;34m:\u001b[0m\u001b[0;34m\u001b[0m\u001b[0;34m\u001b[0m\u001b[0m\n\u001b[0;32m-> 5198\u001b[0;31m             \u001b[0mval\u001b[0m \u001b[0;34m=\u001b[0m \u001b[0mvalidator\u001b[0m\u001b[0;34m.\u001b[0m\u001b[0mvalidate_coerce\u001b[0m\u001b[0;34m(\u001b[0m\u001b[0mval\u001b[0m\u001b[0;34m)\u001b[0m\u001b[0;34m\u001b[0m\u001b[0;34m\u001b[0m\u001b[0m\n\u001b[0m\u001b[1;32m   5199\u001b[0m         \u001b[0;32mexcept\u001b[0m \u001b[0mValueError\u001b[0m \u001b[0;32mas\u001b[0m \u001b[0merr\u001b[0m\u001b[0;34m:\u001b[0m\u001b[0;34m\u001b[0m\u001b[0;34m\u001b[0m\u001b[0m\n\u001b[1;32m   5200\u001b[0m             \u001b[0;32mif\u001b[0m \u001b[0mself\u001b[0m\u001b[0;34m.\u001b[0m\u001b[0m_skip_invalid\u001b[0m\u001b[0;34m:\u001b[0m\u001b[0;34m\u001b[0m\u001b[0;34m\u001b[0m\u001b[0m\n",
      "\u001b[0;32m~/anaconda3/lib/python3.8/site-packages/_plotly_utils/basevalidators.py\u001b[0m in \u001b[0;36mvalidate_coerce\u001b[0;34m(self, v)\u001b[0m\n\u001b[1;32m    402\u001b[0m             \u001b[0mv\u001b[0m \u001b[0;34m=\u001b[0m \u001b[0mto_scalar_or_list\u001b[0m\u001b[0;34m(\u001b[0m\u001b[0mv\u001b[0m\u001b[0;34m)\u001b[0m\u001b[0;34m\u001b[0m\u001b[0;34m\u001b[0m\u001b[0m\n\u001b[1;32m    403\u001b[0m         \u001b[0;32melse\u001b[0m\u001b[0;34m:\u001b[0m\u001b[0;34m\u001b[0m\u001b[0;34m\u001b[0m\u001b[0m\n\u001b[0;32m--> 404\u001b[0;31m             \u001b[0mself\u001b[0m\u001b[0;34m.\u001b[0m\u001b[0mraise_invalid_val\u001b[0m\u001b[0;34m(\u001b[0m\u001b[0mv\u001b[0m\u001b[0;34m)\u001b[0m\u001b[0;34m\u001b[0m\u001b[0;34m\u001b[0m\u001b[0m\n\u001b[0m\u001b[1;32m    405\u001b[0m         \u001b[0;32mreturn\u001b[0m \u001b[0mv\u001b[0m\u001b[0;34m\u001b[0m\u001b[0;34m\u001b[0m\u001b[0m\n\u001b[1;32m    406\u001b[0m \u001b[0;34m\u001b[0m\u001b[0m\n",
      "\u001b[0;32m~/anaconda3/lib/python3.8/site-packages/_plotly_utils/basevalidators.py\u001b[0m in \u001b[0;36mraise_invalid_val\u001b[0;34m(self, v, inds)\u001b[0m\n\u001b[1;32m    286\u001b[0m                 \u001b[0mname\u001b[0m \u001b[0;34m+=\u001b[0m \u001b[0;34m\"[\"\u001b[0m \u001b[0;34m+\u001b[0m \u001b[0mstr\u001b[0m\u001b[0;34m(\u001b[0m\u001b[0mi\u001b[0m\u001b[0;34m)\u001b[0m \u001b[0;34m+\u001b[0m \u001b[0;34m\"]\"\u001b[0m\u001b[0;34m\u001b[0m\u001b[0;34m\u001b[0m\u001b[0m\n\u001b[1;32m    287\u001b[0m \u001b[0;34m\u001b[0m\u001b[0m\n\u001b[0;32m--> 288\u001b[0;31m         raise ValueError(\n\u001b[0m\u001b[1;32m    289\u001b[0m             \"\"\"\n\u001b[1;32m    290\u001b[0m     \u001b[0mInvalid\u001b[0m \u001b[0mvalue\u001b[0m \u001b[0mof\u001b[0m \u001b[0mtype\u001b[0m \u001b[0;34m{\u001b[0m\u001b[0mtyp\u001b[0m\u001b[0;34m}\u001b[0m \u001b[0mreceived\u001b[0m \u001b[0;32mfor\u001b[0m \u001b[0mthe\u001b[0m \u001b[0;34m'{name}'\u001b[0m \u001b[0mproperty\u001b[0m \u001b[0mof\u001b[0m \u001b[0;34m{\u001b[0m\u001b[0mpname\u001b[0m\u001b[0;34m}\u001b[0m\u001b[0;34m\u001b[0m\u001b[0;34m\u001b[0m\u001b[0m\n",
      "\u001b[0;31mValueError\u001b[0m: \n    Invalid value of type 'builtins.dict_keys' received for the 'label' property of sankey.node\n        Received value: dict_keys([0, 1, 2, 3, 4, 5, 6, 7, 8, 9, 10, 11, 12, 13, 14, 15, 16, 17])\n\n    The 'label' property is an array that may be specified as a tuple,\n    list, numpy array, or pandas Series"
     ]
    }
   ],
   "source": [
    "LABEL_TO_ALIAS = {\n",
    "  0: 'Nucleoplasm',\n",
    "  1: 'NuclearM',\n",
    "  2: 'Nucleoli',\n",
    "  3: 'NucleoliFC',\n",
    "  4: 'NuclearS',\n",
    "  5: 'NuclearB',\n",
    "  6: 'EndoplasmicR',\n",
    "  7: 'GolgiA',\n",
    "  8: 'IntermediateF',\n",
    "  9: 'ActinF',\n",
    "  10: 'Microtubules',\n",
    "  11: 'MitoticS',\n",
    "  12: 'Centrosome',\n",
    "  13: 'PlasmaM',\n",
    "  14: 'Mitochondria',\n",
    "  15: 'Aggresome',\n",
    "  16: 'Cytosol',\n",
    "  17: 'VesiclesPCP',\n",
    "  #18: 'Negative',\n",
    "  #19:'Multi-Location',\n",
    "}\n",
    "\n",
    "COLORS = [\n",
    "    '#f44336', '#e91e63', '#9c27b0', '#673ab7', '#3f51b5',\n",
    "    '#2196f3', '#03a9f4', '#00bcd4', '#009688', '#4caf50',\n",
    "    '#8bc34a', '#cddc39', '#ffeb3b', '#ffc107', '#ff9800',\n",
    "    '#ff5722', '#795548', '#9e9e9e', '#607d8b', '#dddddd',\n",
    "    '#212121', '#ff9e80', '#ff6d00', '#ffff00', '#76ff03',\n",
    "    '#00e676', '#64ffda', '#18ffff',\n",
    "]\n",
    "fig = go.Figure(data=[go.Sankey(\n",
    "    node = dict(\n",
    "      pad = 15,\n",
    "      thickness = 20,\n",
    "      line = dict(color = \"black\", width = 0.5),\n",
    "      label = LABEL_TO_ALIAS.keys(),\n",
    "      color = COLORS[:len(LABEL_TO_ALIAS.keys())]\n",
    "    ),\n",
    "    link = dict(\n",
    "      source = [0, 1, 0, 2, 3, 3], # indices correspond to labels, eg A1, A2, A1, B1, ...\n",
    "      target = [2, 3, 3, 4, 4, 5],\n",
    "      value = [8, 4, 2, 8, 4, 2]\n",
    "  ))])\n",
    "\n",
    "fig.update_layout(title_text=\"Basic Sankey Diagram\", font_size=10)\n",
    "fig.show()"
   ]
  }
 ],
 "metadata": {
  "kernelspec": {
   "display_name": "Python 3 (ipykernel)",
   "language": "python",
   "name": "python3"
  },
  "language_info": {
   "codemirror_mode": {
    "name": "ipython",
    "version": 3
   },
   "file_extension": ".py",
   "mimetype": "text/x-python",
   "name": "python",
   "nbconvert_exporter": "python",
   "pygments_lexer": "ipython3",
   "version": "3.8.12"
  }
 },
 "nbformat": 4,
 "nbformat_minor": 5
}
